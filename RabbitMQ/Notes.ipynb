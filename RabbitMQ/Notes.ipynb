{
 "cells": [
  {
   "cell_type": "markdown",
   "id": "9563a65f",
   "metadata": {},
   "source": [
    "Here, is the Paper Note about **RabbitMQ**\n"
   ]
  }
 ],
 "metadata": {
  "language_info": {
   "name": "python"
  }
 },
 "nbformat": 4,
 "nbformat_minor": 5
}
